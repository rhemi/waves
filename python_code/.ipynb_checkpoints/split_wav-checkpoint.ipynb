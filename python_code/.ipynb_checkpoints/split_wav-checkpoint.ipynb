{
 "cells": [
  {
   "cell_type": "markdown",
   "metadata": {},
   "source": [
    "## Imports and globals"
   ]
  },
  {
   "cell_type": "code",
   "execution_count": 23,
   "metadata": {},
   "outputs": [
    {
     "data": {
      "text/html": [
       "<script type=\"text/javascript\">window.PlotlyConfig = {MathJaxConfig: 'local'};</script><script type=\"text/javascript\">if (window.MathJax) {MathJax.Hub.Config({SVG: {font: \"STIX-Web\"}});}</script><script>requirejs.config({paths: { 'plotly': ['https://cdn.plot.ly/plotly-latest.min']},});if(!window._Plotly) {require(['plotly'],function(plotly) {window._Plotly=plotly;});}</script>"
      ],
      "text/vnd.plotly.v1+html": [
       "<script type=\"text/javascript\">window.PlotlyConfig = {MathJaxConfig: 'local'};</script><script type=\"text/javascript\">if (window.MathJax) {MathJax.Hub.Config({SVG: {font: \"STIX-Web\"}});}</script><script>requirejs.config({paths: { 'plotly': ['https://cdn.plot.ly/plotly-latest.min']},});if(!window._Plotly) {require(['plotly'],function(plotly) {window._Plotly=plotly;});}</script>"
      ]
     },
     "metadata": {},
     "output_type": "display_data"
    }
   ],
   "source": [
    "import scipy\n",
    "import os\n",
    "from datetime import datetime\n",
    "from datetime import timedelta\n",
    "import numpy as np\n",
    "import math\n",
    "import pandas as pd\n",
    "\n",
    "import librosa\n",
    "\n",
    "# Visualization\n",
    "import matplotlib.pyplot as plt\n",
    "import seaborn as sns\n",
    "import IPython.display as ipd\n",
    "import librosa.display\n",
    "\n",
    "import plotly.offline as py\n",
    "py.init_notebook_mode(connected=True)\n",
    "import plotly.graph_objs as go\n",
    "import plotly.tools as tls\n",
    "import pandas as pd\n",
    "\n",
    "PATH = '/Users/rhemi/dev/wav/'\n",
    "WAV_FILES = 'wav_files'\n",
    "CSV = '/wav_files/2018_Sep_18/2018_Sep_18.csv'\n",
    "test_file = 'S1/2018_Sep_18_16_29_22.wav'"
   ]
  },
  {
   "cell_type": "markdown",
   "metadata": {},
   "source": [
    "## Main"
   ]
  },
  {
   "cell_type": "code",
   "execution_count": 26,
   "metadata": {},
   "outputs": [
    {
     "name": "stdout",
     "output_type": "stream",
     "text": [
      "2018_Sep_18\n",
      "2018_Sep_18.csv\n",
      "                      S1   S2   S3   S4   S5   S6\n",
      "Datetime                                         \n",
      "2018-09-18 16:29:22  945   45  110  748  437  166\n",
      "2018-09-18 16:29:23  155  134  279   43  653  437\n",
      "2018-09-18 16:29:24  927  450  352  651  612  943\n",
      "2018-09-18 16:29:25  440  605  434  464  417  505\n",
      "2018-09-18 16:29:26  794  456  381  147  639  980\n",
      "2018-09-18 16:29:27  993  466  330   73  395  471\n",
      "2018-09-18 16:29:28  977  293  421   15  932  447\n",
      "2018-09-18 16:29:29  975  703  491  470  287  373\n",
      "2018-09-18 16:29:30  230  603  542  863  423   55\n",
      "2018-09-18 16:29:31  271  816  139  486  350  105\n",
      "2018-09-18 16:29:32  438  698   71  363  960  592\n",
      "2018-09-18 16:29:33  161  487  222  929  659  638\n",
      "2018-09-18 16:29:34  480  647  252  563  613  728\n",
      "2018-09-18 16:29:35  355  301  311  979  919  671\n",
      "2018-09-18 16:29:36  874  699  941  474  726  383\n",
      "2018-09-18 16:29:37  771  702  540  755  453  156\n",
      "2018-09-18 16:29:38  514  637  725  385  283  609\n",
      "2018-09-18 16:29:39  877  381  955  796  799  832\n",
      "2018-09-18 16:29:40  663  884  418  387   16  487\n",
      "2018-09-18 16:29:41  400  239  814  474  480  196\n",
      "2018-09-18 16:29:42  431  625  116  648  547  214\n",
      "2018-09-18 16:29:43  143  719  115  239  960  451\n",
      "2018-09-18 16:29:44  405  500  887  376  922   57\n",
      "2018-09-18 16:29:45  939  799  220  597  871  616\n",
      "2018-09-18 16:29:46  288  828  336  989  819  547\n",
      "2018-09-18 16:29:47   47  265  659  660   82   17\n",
      "2018-09-18 16:29:48  512  168  811  525  580  582\n",
      "2018-09-18 16:29:49   28  289  119  280  965    9\n",
      "2018-09-18 16:29:50  444  198   72  121  878  352\n",
      "2018-09-18 16:29:51  463  635   79  624  846  177\n",
      "...                  ...  ...  ...  ...  ...  ...\n",
      "2018-09-18 17:32:16   61  325  999  704  413  625\n",
      "2018-09-18 17:32:17  190  487  444  139  371  109\n",
      "2018-09-18 17:32:18  944  801   19  655  897  908\n",
      "2018-09-18 17:32:19  266  898   46  742  182  797\n",
      "2018-09-18 17:32:20  244  979    2  537   99  845\n",
      "2018-09-18 17:32:21  363  785  396  208  887  649\n",
      "2018-09-18 17:32:22  923  607  764  850  529  455\n",
      "2018-09-18 17:32:23  112  282  784   95   17  763\n",
      "2018-09-18 17:32:24  131  727  680  368  503  111\n",
      "2018-09-18 17:32:25  873  989  696  677  585  494\n",
      "2018-09-18 17:32:26  710  926  443  622  722  997\n",
      "2018-09-18 17:32:27  408   65  236  728   22  400\n",
      "2018-09-18 17:32:28  484  283  779  571  159  378\n",
      "2018-09-18 17:32:29   45  141  983   86  663   58\n",
      "2018-09-18 17:32:30    6  333  790  222  376  317\n",
      "2018-09-18 17:32:31  425  665  270  430  558   59\n",
      "2018-09-18 17:32:32  875  779  562  367  878  830\n",
      "2018-09-18 17:32:33  837  275  157  663  753  121\n",
      "2018-09-18 17:32:34  392  697  257  216   68  335\n",
      "2018-09-18 17:32:35  898  946  637  713  857  648\n",
      "2018-09-18 17:32:36   91   28  893  855  503  934\n",
      "2018-09-18 17:32:37   18  628   63  737  889  890\n",
      "2018-09-18 17:32:38   68  792  893  620  584  824\n",
      "2018-09-18 17:32:39  255  541  615  964  312  445\n",
      "2018-09-18 17:32:40  548  948  662  226  693  752\n",
      "2018-09-18 17:32:41  877  457  809   27  549  968\n",
      "2018-09-18 17:32:42  492  981  786  374   50  203\n",
      "2018-09-18 17:32:43  989   15  363  720  286  488\n",
      "2018-09-18 17:32:44  260  628  868  400  801   34\n",
      "2018-09-18 17:32:45  944  264  311  136  493  299\n",
      "\n",
      "[3804 rows x 6 columns]\n",
      "S1_2018_Sep_18_16_29_22.png\n",
      "S1_2018_Sep_18_16_29_22.png\n",
      "2018_Sep_18_16_29_22.wav\n"
     ]
    },
    {
     "ename": "TypeError",
     "evalue": "unsupported operand type(s) for *: 'function' and 'int'",
     "output_type": "error",
     "traceback": [
      "\u001b[1;31m---------------------------------------------------------------------------\u001b[0m",
      "\u001b[1;31mTypeError\u001b[0m                                 Traceback (most recent call last)",
      "\u001b[1;32m<ipython-input-26-aee0189e9764>\u001b[0m in \u001b[0;36m<module>\u001b[1;34m()\u001b[0m\n\u001b[0;32m      9\u001b[0m                     \u001b[0mdate\u001b[0m \u001b[1;33m=\u001b[0m \u001b[0mparse_date\u001b[0m\u001b[1;33m(\u001b[0m\u001b[0mfilename\u001b[0m\u001b[1;33m)\u001b[0m\u001b[1;33m\u001b[0m\u001b[0m\n\u001b[0;32m     10\u001b[0m                     \u001b[0mhead\u001b[0m\u001b[1;33m,\u001b[0m \u001b[0msensor_number\u001b[0m \u001b[1;33m=\u001b[0m \u001b[0mos\u001b[0m\u001b[1;33m.\u001b[0m\u001b[0mpath\u001b[0m\u001b[1;33m.\u001b[0m\u001b[0msplit\u001b[0m\u001b[1;33m(\u001b[0m\u001b[0mroot\u001b[0m\u001b[1;33m)\u001b[0m\u001b[1;33m\u001b[0m\u001b[0m\n\u001b[1;32m---> 11\u001b[1;33m                     \u001b[0mchunk_wav\u001b[0m\u001b[1;33m(\u001b[0m\u001b[0mroot\u001b[0m\u001b[1;33m,\u001b[0m \u001b[0mfilename\u001b[0m\u001b[1;33m,\u001b[0m \u001b[0mdate\u001b[0m\u001b[1;33m,\u001b[0m \u001b[0mtruth\u001b[0m\u001b[1;33m,\u001b[0m \u001b[0mwindow\u001b[0m\u001b[1;33m=\u001b[0m\u001b[1;36m2\u001b[0m\u001b[1;33m,\u001b[0m \u001b[0mslide\u001b[0m\u001b[1;33m=\u001b[0m\u001b[1;36m1\u001b[0m\u001b[1;33m)\u001b[0m\u001b[1;33m\u001b[0m\u001b[0m\n\u001b[0m\u001b[0;32m     12\u001b[0m                 \u001b[1;32melif\u001b[0m\u001b[1;33m(\u001b[0m\u001b[0mfile_type\u001b[0m \u001b[1;33m==\u001b[0m \u001b[1;34m'.csv'\u001b[0m\u001b[1;33m)\u001b[0m\u001b[1;33m:\u001b[0m\u001b[1;33m\u001b[0m\u001b[0m\n\u001b[0;32m     13\u001b[0m                     \u001b[0mtruth\u001b[0m \u001b[1;33m=\u001b[0m \u001b[0mpd\u001b[0m\u001b[1;33m.\u001b[0m\u001b[0mread_csv\u001b[0m\u001b[1;33m(\u001b[0m\u001b[0mroot\u001b[0m\u001b[1;33m+\u001b[0m\u001b[1;34m'/'\u001b[0m\u001b[1;33m+\u001b[0m\u001b[0mfilename\u001b[0m\u001b[1;33m,\u001b[0m\u001b[0mparse_dates\u001b[0m\u001b[1;33m=\u001b[0m\u001b[1;33m[\u001b[0m\u001b[1;34m'Datetime'\u001b[0m\u001b[1;33m]\u001b[0m\u001b[1;33m,\u001b[0m \u001b[0mindex_col\u001b[0m\u001b[1;33m=\u001b[0m\u001b[1;33m[\u001b[0m\u001b[1;34m'Datetime'\u001b[0m\u001b[1;33m]\u001b[0m \u001b[1;33m)\u001b[0m\u001b[1;33m\u001b[0m\u001b[0m\n",
      "\u001b[1;32m<ipython-input-25-d89539503584>\u001b[0m in \u001b[0;36mchunk_wav\u001b[1;34m(root, filename, date, truth, window, slide)\u001b[0m\n\u001b[0;32m     13\u001b[0m     \u001b[1;31m#wav_array = np.empty((rate, int(data.size/rate)))\u001b[0m\u001b[1;33m\u001b[0m\u001b[1;33m\u001b[0m\u001b[0m\n\u001b[0;32m     14\u001b[0m     \u001b[1;31m#print(wav_array.shape)\u001b[0m\u001b[1;33m\u001b[0m\u001b[1;33m\u001b[0m\u001b[0m\n\u001b[1;32m---> 15\u001b[1;33m     \u001b[1;32mfor\u001b[0m \u001b[0mi\u001b[0m \u001b[1;32min\u001b[0m \u001b[1;33m(\u001b[0m\u001b[0mrange\u001b[0m\u001b[1;33m(\u001b[0m\u001b[1;36m0\u001b[0m\u001b[1;33m,\u001b[0m \u001b[0mdata\u001b[0m\u001b[1;33m.\u001b[0m\u001b[0msize\u001b[0m\u001b[1;33m,\u001b[0m \u001b[0mrate\u001b[0m\u001b[1;33m*\u001b[0m\u001b[0mslide\u001b[0m\u001b[1;33m)\u001b[0m\u001b[1;33m)\u001b[0m\u001b[1;33m:\u001b[0m\u001b[1;33m\u001b[0m\u001b[0m\n\u001b[0m\u001b[0;32m     16\u001b[0m         \u001b[0mdate\u001b[0m \u001b[1;33m=\u001b[0m \u001b[0mdate\u001b[0m \u001b[1;33m+\u001b[0m \u001b[0mslide_td\u001b[0m\u001b[1;33m\u001b[0m\u001b[0m\n\u001b[0;32m     17\u001b[0m         \u001b[0mdir_string\u001b[0m \u001b[1;33m=\u001b[0m \u001b[1;33m(\u001b[0m\u001b[1;34m'/'\u001b[0m \u001b[1;33m+\u001b[0m \u001b[0msensor_number\u001b[0m \u001b[1;33m+\u001b[0m \u001b[1;34m'_'\u001b[0m \u001b[1;33m+\u001b[0m \u001b[0mdate\u001b[0m\u001b[1;33m.\u001b[0m\u001b[0mstrftime\u001b[0m\u001b[1;33m(\u001b[0m\u001b[1;34m\"%Y_%b_%d_%H_%M_%S\"\u001b[0m\u001b[1;33m)\u001b[0m\u001b[1;33m)\u001b[0m\u001b[1;33m\u001b[0m\u001b[0m\n",
      "\u001b[1;31mTypeError\u001b[0m: unsupported operand type(s) for *: 'function' and 'int'"
     ]
    }
   ],
   "source": [
    "for root, dirs, files in os.walk(PATH+WAV_FILES):  \n",
    "    for dir in dirs:\n",
    "        print(dir)\n",
    "        for root, dirs, files in os.walk(PATH+WAV_FILES+'/'+dir):\n",
    "            for filename in files:\n",
    "                print(filename)\n",
    "                file_type = os.path.splitext(filename)[1]\n",
    "                if( file_type == '.wav'):\n",
    "                    date = parse_date(filename)\n",
    "                    head, sensor_number = os.path.split(root)\n",
    "                    chunk_wav(root, filename, date, truth, window=2, slide=1)\n",
    "                elif(file_type == '.csv'):\n",
    "                    truth = pd.read_csv(root+'/'+filename,parse_dates=['Datetime'], index_col=['Datetime'] )\n",
    "                    print(truth)\n",
    "                "
   ]
  },
  {
   "cell_type": "markdown",
   "metadata": {},
   "source": [
    "## Read in wav file and grab date-time from name"
   ]
  },
  {
   "cell_type": "markdown",
   "metadata": {},
   "source": [
    "### Read in wav file"
   ]
  },
  {
   "cell_type": "code",
   "execution_count": 6,
   "metadata": {},
   "outputs": [],
   "source": [
    "def read_wav():\n",
    "    parse_dates = ['Datetime']\n",
    "    truth = pd.read_csv(CSV, parse_dates=parse_dates)"
   ]
  },
  {
   "cell_type": "markdown",
   "metadata": {},
   "source": [
    "### Create Datetime from wave filename"
   ]
  },
  {
   "cell_type": "code",
   "execution_count": 7,
   "metadata": {},
   "outputs": [],
   "source": [
    "def parse_date(date):\n",
    "    return datetime.strptime(date, \"%Y_%b_%d_%H_%M_%S.wav\")"
   ]
  },
  {
   "cell_type": "markdown",
   "metadata": {},
   "source": [
    "## Make a file directory if there isn't one"
   ]
  },
  {
   "cell_type": "code",
   "execution_count": 8,
   "metadata": {
    "code_folding": []
   },
   "outputs": [],
   "source": [
    "def makedir(dest):\n",
    "    if(os.path.isdir(os.path.dirname(dest)) != True):\n",
    "        os.makedirs(os.path.dirname(dest))"
   ]
  },
  {
   "cell_type": "markdown",
   "metadata": {
    "heading_collapsed": true
   },
   "source": [
    "## Test function"
   ]
  },
  {
   "cell_type": "code",
   "execution_count": null,
   "metadata": {
    "hidden": true
   },
   "outputs": [],
   "source": [
    "root = '/Users/rhemi/dev/wav/wav_files/2018_Sep_18/S1'\n",
    "filename = '2018_Sep_18_16_29_22.wav'\n",
    "head, sensor_number = os.path.split(root)\n",
    "date = parse_date(filename)\n",
    "\n",
    "dates = ['Datetime']\n",
    "\n",
    "truth = pd.read_csv(PATH+CSV,parse_dates=dates, index_col=['Datetime'] )\n",
    "\n",
    "chunk_wav(root, filename, date, truth, window=2, slide=1)\n"
   ]
  },
  {
   "cell_type": "code",
   "execution_count": null,
   "metadata": {
    "hidden": true
   },
   "outputs": [],
   "source": [
    "test = truth.loc[[date], sensor_number]\n",
    "is_drone = test>=1000\n",
    "print(is_drone)"
   ]
  },
  {
   "cell_type": "markdown",
   "metadata": {},
   "source": [
    "## Create for loop to run through and chunk wav file"
   ]
  },
  {
   "cell_type": "code",
   "execution_count": 27,
   "metadata": {},
   "outputs": [],
   "source": [
    "def chunk_wav(root, filename, date, truth, window=2, slide=2):\n",
    "    directory, sensor_number = os.path.split(root)\n",
    "    \n",
    "    sample_rate, data = scipy.io.wavfile.read(root+'/'+filename)\n",
    "    \n",
    "    data = np.array(data, dtype=float)\n",
    "    slide_td = timedelta(seconds=slide)\n",
    "    is_drone_dir = directory+'/is_drone/'\n",
    "    no_drone_dir = directory+'/no_drone/'\n",
    "    makedir(is_drone_dir)\n",
    "    makedir(no_drone_dir)\n",
    "    \n",
    "    #wav_array = np.empty((rate, int(data.size/rate)))\n",
    "    #print(wav_array.shape)\n",
    "    for i in (range(0, data.size, sample_rate*slide)):\n",
    "        date = date + slide_td\n",
    "        dir_string = ('/' + sensor_number + '_' + date.strftime(\"%Y_%b_%d_%H_%M_%S\"))\n",
    "        chunk = data[i:i+sample_rate*window]\n",
    "        plt = build_spectrogram(chunk, sample_rate)\n",
    "        drone_truth = is_drone(date, sensor_number, truth)\n",
    "        if(drone_truth):\n",
    "            #scipy.io.wavfile.write(is_drone_dir + dir_string +'.wav' , rate, chunk)\n",
    "            plt.savefig(is_drone_dir+dir_string+\".png\", dpi=224/4, format='png')\n",
    "            plt.close\n",
    "            print('is_drone')\n",
    "        else:\n",
    "            #scipy.io.wavfile.write(no_drone_dir+ dir_string + '.wav', rate, chunk)\n",
    "            plt.savefig(no_drone_dir+dir_string+\".png\", dpi=224/4, format='png')\n",
    "            plt.close\n",
    "            print('no_drone')"
   ]
  },
  {
   "cell_type": "markdown",
   "metadata": {},
   "source": [
    "## Build hdf5 structure if it doesn't exist, otherwise just open it"
   ]
  },
  {
   "cell_type": "code",
   "execution_count": 9,
   "metadata": {},
   "outputs": [],
   "source": [
    "def build_hdf5():\n",
    "    print(\"Build HDF5 structure\")"
   ]
  },
  {
   "cell_type": "markdown",
   "metadata": {},
   "source": [
    "## Determine if time chunk has a drone"
   ]
  },
  {
   "cell_type": "code",
   "execution_count": 10,
   "metadata": {},
   "outputs": [],
   "source": [
    "def is_drone(date, sensor_number, truth):\n",
    "    test = truth.S1.get(date, 10000)\n",
    "    print (test)\n",
    "    #test = truth.loc[[date], sensor_number]\n",
    "    return test<=500"
   ]
  },
  {
   "cell_type": "markdown",
   "metadata": {},
   "source": [
    "# Create spectrogram"
   ]
  },
  {
   "cell_type": "code",
   "execution_count": null,
   "metadata": {},
   "outputs": [],
   "source": [
    "file = '../wav_files/2018_Sep_18/is_drone/S1_2018_Sep_18_16_29_34.wav'\n",
    "sample_rate, data = scipy.io.wavfile.read(file)\n",
    "samples = np.array(data, dtype=float)"
   ]
  },
  {
   "cell_type": "markdown",
   "metadata": {},
   "source": [
    "## Function to save spectrogram"
   ]
  },
  {
   "cell_type": "markdown",
   "metadata": {
    "heading_collapsed": true
   },
   "source": [
    "## raw wave"
   ]
  },
  {
   "cell_type": "code",
   "execution_count": null,
   "metadata": {
    "hidden": true
   },
   "outputs": [],
   "source": [
    "def log_specgram(audio, sample_rate, window_size=20,\n",
    "                 step_size=10, eps=1e-10):\n",
    "    nperseg = int(round(window_size * sample_rate / 1e3))\n",
    "    noverlap = int(round(step_size * sample_rate / 1e3))\n",
    "    freqs, times, spec = signal.spectrogram(audio,\n",
    "                                    fs=sample_rate,\n",
    "                                    window='hann',\n",
    "                                    nperseg=nperseg,\n",
    "                                    noverlap=noverlap,\n",
    "                                    detrend=False)\n",
    "    return freqs, times, np.log(spec.T.astype(np.float32) + eps)\n",
    "\n",
    "freqs, times, spectrogram = log_specgram(samples[0:104857], sample_rate)\n",
    "\n",
    "fig = plt.figure(figsize=(14, 8))\n",
    "ax1 = fig.add_subplot(211)\n",
    "ax1.set_title('Raw wave of ' + filename)\n",
    "ax1.set_ylabel('Amplitude')\n",
    "ax1.plot(np.linspace(0, sample_rate/len(samples[0:104857]), sample_rate), samples[0:104857])\n",
    "\n",
    "ax2 = fig.add_subplot(212)\n",
    "ax2.imshow(spectrogram.T, aspect='auto', origin='lower', \n",
    "           extent=[times.min(), times.max(), freqs.min(), freqs.max()])\n",
    "ax2.set_yticks(freqs[::16])\n",
    "ax2.set_xticks(times[::16])\n",
    "ax2.set_title('Spectrogram of ' + filename)\n",
    "ax2.set_ylabel('Freqs in Hz')\n",
    "ax2.set_xlabel('Seconds')"
   ]
  },
  {
   "cell_type": "markdown",
   "metadata": {},
   "source": [
    "## Mel Spectrogram\n",
    "http://practicalcryptography.com/miscellaneous/machine-learning/guide-mel-frequency-cepstral-coefficients-mfccs/"
   ]
  },
  {
   "cell_type": "markdown",
   "metadata": {},
   "source": [
    "## Plot Mel Spectrogram"
   ]
  },
  {
   "cell_type": "code",
   "execution_count": null,
   "metadata": {},
   "outputs": [],
   "source": [
    "def plot_mel_spectorgram(samples, sample_rate):\n",
    "    S = librosa.feature.melspectrogram(samples, sr=sample_rate, n_mels=128)\n",
    "\n",
    "    # Convert to log scale (dB). We'll use the peak power (max) as reference.\n",
    "    log_S = librosa.power_to_db(S, ref=np.max)\n",
    "\n",
    "    plt.figure(figsize=(12, 4))\n",
    "    librosa.display.specshow(log_S, sr=sample_rate, x_axis='time', y_axis='mel')\n",
    "    plt.title('Should be a drone here ')\n",
    "    plt.colorbar(format='%+02.0f dB')\n",
    "    plt.tight_layout()\n",
    "    "
   ]
  },
  {
   "cell_type": "markdown",
   "metadata": {},
   "source": [
    "## Plot MFCC"
   ]
  },
  {
   "cell_type": "code",
   "execution_count": null,
   "metadata": {},
   "outputs": [],
   "source": [
    "def plot_mfcc_spectrogram(samples, sample_rate):\n",
    "    S = librosa.feature.melspectrogram(samples, sr=sample_rate, n_mels=128)\n",
    "\n",
    "    # Convert to log scale (dB). We'll use the peak power (max) as reference.\n",
    "    log_S = librosa.power_to_db(S, ref=np.max)\n",
    "    \n",
    "    mfcc = librosa.feature.mfcc(S=log_S, n_mfcc=13)\n",
    "\n",
    "    # Let's pad on the first and second deltas while we're at it\n",
    "    delta2_mfcc = librosa.feature.delta(mfcc, order=2)\n",
    "\n",
    "    plt.figure(figsize=(12, 4))\n",
    "    librosa.display.specshow(delta2_mfcc)\n",
    "    plt.ylabel('MFCC coeffs')\n",
    "    plt.xlabel('Time')\n",
    "    plt.title('MFCC')\n",
    "    plt.colorbar()\n",
    "    plt.tight_layout()"
   ]
  },
  {
   "cell_type": "code",
   "execution_count": null,
   "metadata": {},
   "outputs": [],
   "source": [
    "plot_mel_spectorgram(samples, sample_rate)"
   ]
  },
  {
   "cell_type": "code",
   "execution_count": null,
   "metadata": {},
   "outputs": [],
   "source": [
    "plot_mfcc_spectrogram(samples, sample_rate)"
   ]
  },
  {
   "cell_type": "code",
   "execution_count": 11,
   "metadata": {},
   "outputs": [],
   "source": [
    "def build_spectrogram(data, sample_rate):\n",
    "    S = librosa.feature.melspectrogram(data, sr=sample_rate, n_mels=128)\n",
    "\n",
    "    # Convert to log scale (dB). We'll use the peak power (max) as reference.\n",
    "    log_S = librosa.power_to_db(S, ref=np.max)\n",
    "\n",
    "    plt.figure(figsize=(4,4))\n",
    "    librosa.display.specshow(log_S, sr=sample_rate)\n",
    "    plt.tight_layout()\n",
    "    \n",
    "    return plt"
   ]
  },
  {
   "cell_type": "code",
   "execution_count": 12,
   "metadata": {},
   "outputs": [
    {
     "ename": "NameError",
     "evalue": "name 'samples' is not defined",
     "output_type": "error",
     "traceback": [
      "\u001b[1;31m---------------------------------------------------------------------------\u001b[0m",
      "\u001b[1;31mNameError\u001b[0m                                 Traceback (most recent call last)",
      "\u001b[1;32m<ipython-input-12-04443579c84b>\u001b[0m in \u001b[0;36m<module>\u001b[1;34m()\u001b[0m\n\u001b[1;32m----> 1\u001b[1;33m \u001b[0mplt\u001b[0m \u001b[1;33m=\u001b[0m \u001b[0mbuild_spectrogram\u001b[0m\u001b[1;33m(\u001b[0m\u001b[0msamples\u001b[0m\u001b[1;33m,\u001b[0m \u001b[0msample_rate\u001b[0m\u001b[1;33m)\u001b[0m\u001b[1;33m\u001b[0m\u001b[0m\n\u001b[0m\u001b[0;32m      2\u001b[0m \u001b[0mplt\u001b[0m\u001b[1;33m.\u001b[0m\u001b[0msavefig\u001b[0m\u001b[1;33m(\u001b[0m\u001b[1;34m\"save_dir + date +spec_test.png\"\u001b[0m\u001b[1;33m,\u001b[0m \u001b[0mdpi\u001b[0m\u001b[1;33m=\u001b[0m\u001b[1;36m224\u001b[0m\u001b[1;33m/\u001b[0m\u001b[1;36m4\u001b[0m\u001b[1;33m,\u001b[0m \u001b[0mformat\u001b[0m\u001b[1;33m=\u001b[0m\u001b[1;34m'png'\u001b[0m\u001b[1;33m)\u001b[0m\u001b[1;33m\u001b[0m\u001b[0m\n\u001b[0;32m      3\u001b[0m \u001b[0mplt\u001b[0m\u001b[1;33m.\u001b[0m\u001b[0mclose\u001b[0m\u001b[1;33m\u001b[0m\u001b[0m\n",
      "\u001b[1;31mNameError\u001b[0m: name 'samples' is not defined"
     ]
    }
   ],
   "source": [
    "plt = build_spectrogram(samples, sample_rate)\n",
    "plt.savefig(\"save_dir + date +spec_test.png\", dpi=224/4, format='png')\n",
    "plt.close"
   ]
  },
  {
   "cell_type": "markdown",
   "metadata": {
    "heading_collapsed": true
   },
   "source": [
    "# Extras"
   ]
  },
  {
   "cell_type": "markdown",
   "metadata": {
    "heading_collapsed": true,
    "hidden": true
   },
   "source": [
    "## If there is no overlap, we can just use numpy array"
   ]
  },
  {
   "cell_type": "code",
   "execution_count": null,
   "metadata": {
    "hidden": true
   },
   "outputs": [],
   "source": [
    "rate, data = scipy.io.wavfile.read(PATH+test_file)\n",
    "test = np.array(data)\n",
    "test = test[0:(math.floor(data.size/rate)*rate)]\n",
    "\n",
    "test = test.reshape(math.floor(data.size/rate), rate)\n"
   ]
  },
  {
   "cell_type": "markdown",
   "metadata": {
    "heading_collapsed": true,
    "hidden": true
   },
   "source": [
    "## sample code"
   ]
  },
  {
   "cell_type": "code",
   "execution_count": null,
   "metadata": {
    "hidden": true
   },
   "outputs": [],
   "source": [
    "# Authored by Andrew Jiang\n",
    "# BCG digital Ventures\n",
    "import os, wave, math, collections\n",
    "\n",
    "# define named tuples\n",
    "metatuple = collections.namedtuple('metatuple', ['nchannels', 'sampwidth', 'framerate', 'nframes', 'comptype', 'compname'])\n",
    "datatuple = collections.namedtuple('datatuple', ['meta', 'data'])\n",
    "\n",
    "# opens a wav file and returns the data as a tuple\n",
    "def readwave(src):\n",
    "    read = wave.open(src, 'rb')\n",
    "    meta = read.getparams()\n",
    "    # turn params into a metatuple\n",
    "    meta = metatuple(meta[0], meta[1], meta[2], meta[3], meta[4], meta[5])\n",
    "    data = read.readframes(meta.nframes)\n",
    "    read.close()\n",
    "    return datatuple(meta, [data])\n",
    "\n",
    "# writes to a directory\n",
    "def writewave(dest, data):\n",
    "    files = []\n",
    "    data = separate(data)\n",
    "    for i in range(len(data)):\n",
    "        destfile = dest + 'i' + '.wav'\n",
    "        makedir(destfile) # make sure dir exists\n",
    "        write = wave.open(destfile, 'wb')\n",
    "        write.setparams(data[i].meta)\n",
    "        write.writeframes(data[i].data)\n",
    "        write.close()\n",
    "        files.append(destfile)\n",
    "    return files\n",
    "\n",
    "# helper function that creates dir if it doesn't exist\n",
    "def makedir(dest):\n",
    "    if(os.path.isdir(os.path.dirname(dest)) != True):\n",
    "        os.makedirs(os.path.dirname(dest))\n",
    "\n",
    "# slices audio data at given start, end: frame#\n",
    "def slicewave(data, start, end):\n",
    "    if(len(data.data) > 1):\n",
    "        data = merge(data) # insurance\n",
    "    meta = data.meta\n",
    "    start *= meta.sampwidth # deal with sample width\n",
    "    end *= meta.sampwidth\n",
    "    spliced = data.data[0][start:end]\n",
    "    nf = len(spliced) / meta.sampwidth\n",
    "    meta = meta._replace(nframes=nf)\n",
    "    return datatuple(meta, [spliced])\n",
    "\n",
    "# slices audio data at given start, end: seconds\n",
    "def slicewave_s(data, start, end):\n",
    "    fr = float(data.meta.framerate)\n",
    "    newdata = slicewave(data, int(float(start) * fr), int(float(end) * fr))\n",
    "    return newdata\n",
    "\n",
    "# splits audio data into equal intervals: # of frames\n",
    "def split(data, interval=None, overlap=None):\n",
    "    if(interval == None):\n",
    "        interval = data.meta.framerate # =1s\n",
    "    if(overlap == None):\n",
    "        overlap = interval\n",
    "    if(interval < 1 or overlap < 1):\n",
    "        raise ValueError('cannot iterate')\n",
    "    iterations = int(math.ceil(1.0 * data.meta.nframes / interval))\n",
    "    canned = []\n",
    "    for i in range(iterations):\n",
    "        start = i * interval\n",
    "        end = start + overlap\n",
    "        canned.append(slicewave(data, start, end))\n",
    "    newdata = combine(canned)\n",
    "    return newdata\n",
    "\n",
    "# splits audio data into equal intervals: seconds\n",
    "def split_s(data, interval=None, overlap=None):\n",
    "    fr = float(data.meta.framerate)\n",
    "    if(interval != None):\n",
    "        interval = int(float(interval) * fr)\n",
    "    if(overlap != None):\n",
    "        overlap = int(float(overlap) * fr)\n",
    "    newdata = split(data, interval, overlap)\n",
    "    return newdata\n",
    "\n",
    "# separate a data tuple containing multiple audio tracks\n",
    "# into an array of data tuples containing single audio tracks\n",
    "def separate(data):\n",
    "    newdata = []\n",
    "    nframes = data.meta.nframes\n",
    "    ndata = len(data.data)\n",
    "    for i in range(ndata):\n",
    "        nf = len(data.data[i]) / data.meta.sampwidth\n",
    "        meta = data.meta._replace(nframes=nf)\n",
    "        newdata.append(datatuple(meta, data.data[i]))\n",
    "    return newdata\n",
    "\n",
    "# combine an array of data tuples containing single audio tracks\n",
    "# into a single data tuple containing multiple audio tracks\n",
    "def combine(data):\n",
    "    newdata = []\n",
    "    meta = data[0].meta\n",
    "    for i in range(len(data)):\n",
    "        newdata += data[i].data\n",
    "    nf = len(''.join(newdata)) / meta.sampwidth\n",
    "    meta = meta._replace(nframes=nf)\n",
    "    return datatuple(meta, newdata)\n",
    "\n",
    "# merge multiple audio tracks into one\n",
    "def merge(data):\n",
    "    meta = data.meta\n",
    "    newdata = ''.join(data.data)\n",
    "    return datatuple(meta, [newdata])"
   ]
  },
  {
   "cell_type": "markdown",
   "metadata": {
    "heading_collapsed": true,
    "hidden": true
   },
   "source": [
    "### Reference csv file to determine is_drone boolean"
   ]
  },
  {
   "cell_type": "code",
   "execution_count": null,
   "metadata": {
    "hidden": true
   },
   "outputs": [],
   "source": []
  },
  {
   "cell_type": "markdown",
   "metadata": {
    "heading_collapsed": true,
    "hidden": true
   },
   "source": [
    "### Create spectrogram"
   ]
  },
  {
   "cell_type": "markdown",
   "metadata": {
    "heading_collapsed": true,
    "hidden": true
   },
   "source": [
    "### Save file to apprioriate hdf5 folder, is_drone, no_drone.\n",
    "### Possibly just save image to folder for now."
   ]
  },
  {
   "cell_type": "code",
   "execution_count": null,
   "metadata": {
    "hidden": true
   },
   "outputs": [],
   "source": []
  }
 ],
 "metadata": {
  "kernelspec": {
   "display_name": "Python 3",
   "language": "python",
   "name": "python3"
  },
  "language_info": {
   "codemirror_mode": {
    "name": "ipython",
    "version": 3
   },
   "file_extension": ".py",
   "mimetype": "text/x-python",
   "name": "python",
   "nbconvert_exporter": "python",
   "pygments_lexer": "ipython3",
   "version": "3.7.0"
  }
 },
 "nbformat": 4,
 "nbformat_minor": 2
}
